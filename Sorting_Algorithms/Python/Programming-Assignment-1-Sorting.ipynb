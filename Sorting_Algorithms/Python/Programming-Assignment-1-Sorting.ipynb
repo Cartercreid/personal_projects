{
 "cells": [
  {
   "cell_type": "markdown",
   "metadata": {},
   "source": [
    "# Programming Assignment \\# 1 Carter Reid\n",
    "\n",
    "__Goal:__ \n",
    "\n",
    "This programming assignment will ask you to do the following tasks.\n",
    "\n",
    "(a) Implement some of the sorting algorithms for sorting integer data in ascending order in python3.\n",
    "  - Simple sort (implemented for you)\n",
    "  - Bubble Sort (read from book or online sources)\n",
    "  - Merge Sort\n",
    "  - Quicksort \n",
    "  \n",
    "  \n",
    "(b) Your implementation must count the number of *compare* operations each sorting algorithm carries out.\n",
    "    \n",
    "(c) You must formulate a series of arrays of lengths from $5$ to $100$  (step by 5), that will form the worst case of these\n",
    "sorting algorithms and plot the number of comparisons in the __worst case__ vs. size of input array (x axis)\n",
    " \n",
    "(d) Generate $1000$ random inputs for each size and compute average time. Plot the size of input array (x axis) vs. number of comparisons (y axis)"
   ]
  },
  {
   "cell_type": "markdown",
   "metadata": {},
   "source": [
    "----\n",
    "## Simple Sort"
   ]
  },
  {
   "cell_type": "code",
   "execution_count": 1,
   "metadata": {},
   "outputs": [],
   "source": [
    "%matplotlib inline\n",
    "import matplotlib\n",
    "import numpy as np\n",
    "import matplotlib.pyplot as plt\n",
    "\n",
    "def simple_sort(a):\n",
    "    # must sort the array a in place and return the number of comparisons\n",
    "    num_compare = 0\n",
    "    n = len(a)\n",
    "    for i in range(0, n): # i goes from 0 to n-1\n",
    "        for j in range(i+1, n): # j goes from i+1 to n-1\n",
    "            num_compare = num_compare + 1\n",
    "            if a[i] >= a[j]:\n",
    "                # swap\n",
    "                a[i], a[j] = a[j], a[i]\n",
    "    return num_compare"
   ]
  },
  {
   "cell_type": "code",
   "execution_count": 2,
   "metadata": {},
   "outputs": [
    {
     "name": "stdout",
     "output_type": "stream",
     "text": [
      "Num Comparison =  45\n",
      "Sorted Result =  [-2, -1, 1, 2, 3, 3, 4, 10, 15, 29]\n"
     ]
    }
   ],
   "source": [
    "# TESTING CODE\n",
    "a = [3, 10, 1, 29, -1, 4, 3, 15, 2, -2]\n",
    "nc = simple_sort(a)\n",
    "print('Num Comparison = ', nc)\n",
    "print('Sorted Result = ', a)"
   ]
  },
  {
   "cell_type": "markdown",
   "metadata": {},
   "source": [
    "### Complexity analysis of simple sort.\n",
    "\n",
    "Note that simple sort consists of two loops and regardless of the input array, the first loop runs from n steps. And the second loop runs $n-i-1$ steps where $i$ is the index of the first loop. Thus, the worst case, best case and average case complexity should be $\\sum_{j=1}^{n-1} j = \\frac{n(n-1)}{2}$ comparisons = $\\Theta(n^2)$\n",
    "\n",
    "The code below plots it for arrays of size 5, 10, ..., 100. However, we cannot really distinguish between the number of comparisons for randomized vs. worst case."
   ]
  },
  {
   "cell_type": "code",
   "execution_count": 3,
   "metadata": {},
   "outputs": [
    {
     "data": {
      "image/png": "[encoded data removed]",
      "text/plain": [
       "<Figure size 432x288 with 1 Axes>"
      ]
     },
     "metadata": {},
     "output_type": "display_data"
    }
   ],
   "source": [
    "import random\n",
    "\n",
    "# CODE TO GENERATE WORST CASE\n",
    "array_sizes = range(5, 100, 5)\n",
    "\n",
    "# Code for creating an already sorted array\n",
    "def create_ascending_sorted_array(a_size):\n",
    "    a = []\n",
    "    for i in range(a_size):\n",
    "        a.append(i)\n",
    "    return a\n",
    "\n",
    "# Code for creating a random array\n",
    "def create_random_shuffled_array(a_size):\n",
    "    a = list(range(a_size))\n",
    "    random.shuffle(a)\n",
    "    return a\n",
    "\n",
    "\n",
    "# Code for running sorting and generating number of compares\n",
    "num_compares_wc = []\n",
    "for n in array_sizes:\n",
    "    a = create_ascending_sorted_array(n)\n",
    "    nc = simple_sort(a)\n",
    "    num_compares_wc.append(nc)\n",
    "    \n",
    "# Randomized comparisons\n",
    "num_compares_random = []\n",
    "num_trials = 1000\n",
    "for n in array_sizes:\n",
    "    total = 0\n",
    "    for m in range(num_trials):\n",
    "        a = create_random_shuffled_array(n)\n",
    "        nc = simple_sort(a)\n",
    "        total = total + nc\n",
    "    avg = total / num_trials\n",
    "    num_compares_random.append(avg)\n",
    "# Code for plotting\n",
    "\n",
    "plt.plot(array_sizes, num_compares_wc, label='Worst Case')\n",
    "plt.plot(array_sizes, num_compares_random, label='Average Case')\n",
    "plt.legend(['Worst Case', 'Average Case'])\n",
    "plt.title('Simple Sort (Worst and Average Cases)')\n",
    "plt.xlabel('Array Size')\n",
    "plt.ylabel('Number of Comparisons')\n",
    "\n",
    "plt.show()"
   ]
  },
  {
   "cell_type": "markdown",
   "metadata": {},
   "source": [
    "----\n",
    "\n",
    "### Bubble Sort"
   ]
  },
  {
   "cell_type": "code",
   "execution_count": 4,
   "metadata": {},
   "outputs": [],
   "source": [
    "def bubble_sort(a):\n",
    "    # Implement code to bubble sort the given array a in place.\n",
    "    # Also return the number of comparisons. \n",
    "    num_compares = 0\n",
    "    # ... blah blah blah .. \n",
    "    n = len(a)\n",
    "    for i in range(0,(n-1)):\n",
    "        for j in range(0,n-i-1):\n",
    "            num_compares = num_compares +1\n",
    "            if a[j] > a[j+1]:\n",
    "                #swap\n",
    "                a[j], a[j+1] = a[j+1], a[j]\n",
    "    return num_compares"
   ]
  },
  {
   "cell_type": "markdown",
   "metadata": {},
   "source": [
    "### Complexity Analysis of Bubble Sort\n",
    "\n",
    "__Todo: explain what the worst and average cases are. Explain how you would craft inputs for the worst case __"
   ]
  },
  {
   "cell_type": "code",
   "execution_count": 5,
   "metadata": {},
   "outputs": [
    {
     "data": {
      "image/png": "[encoded data removed]",
      "text/plain": [
       "<Figure size 432x288 with 1 Axes>"
      ]
     },
     "metadata": {},
     "output_type": "display_data"
    }
   ],
   "source": [
    "## WRITE CODE HERE TO GENERATE WORST CASE and AVERAGE CASE INPUTS/PLOT\n",
    "## You may cut and paste from code we provided or directly call them\n",
    "\n",
    "##There is not worst case for bubble sort, it runs in constant time\n",
    "import random\n",
    "\n",
    "# CODE TO GENERATE WORST CASE\n",
    "array_sizes = range(5, 100, 5)\n",
    "\n",
    "# Code for creating an already sorted array\n",
    "def create_ascending_sorted_array(a_size):\n",
    "    a = []\n",
    "    for i in range(a_size):\n",
    "        a.append(i)\n",
    "    return a\n",
    "\n",
    "# Code for creating a random array\n",
    "def create_random_shuffled_array(a_size):\n",
    "    a = list(range(a_size))\n",
    "    random.shuffle(a)\n",
    "    return a\n",
    "\n",
    "\n",
    "# Code for running sorting and generating number of compares\n",
    "num_compares_wc = []\n",
    "for n in array_sizes:\n",
    "    a = create_ascending_sorted_array(n)\n",
    "    a.reverse()\n",
    "    nc = bubble_sort(a)\n",
    "    num_compares_wc.append(nc)\n",
    "    \n",
    "# Randomized comparisons\n",
    "num_compares_random = []\n",
    "num_trials = 1000\n",
    "for n in array_sizes:\n",
    "    total = 0\n",
    "    for m in range(num_trials):\n",
    "        a = create_random_shuffled_array(n)\n",
    "        nc = bubble_sort(a)\n",
    "        total = total + nc\n",
    "    avg = total / num_trials\n",
    "    num_compares_random.append(avg)\n",
    "# Code for plotting\n",
    "\n",
    "plt.plot(array_sizes, num_compares_wc, label='Worst Case')\n",
    "plt.plot(array_sizes, num_compares_random, label='Average Case')\n",
    "plt.legend(['Worst Case', 'Average Case'])\n",
    "plt.title('Bubble Sort (Worst and Average Cases)')\n",
    "plt.xlabel('Array Size')\n",
    "plt.ylabel('Number of Comparisons')\n",
    "\n",
    "plt.show()"
   ]
  },
  {
   "cell_type": "markdown",
   "metadata": {},
   "source": [
    "----\n",
    "### Merge Sort"
   ]
  },
  {
   "cell_type": "code",
   "execution_count": 19,
   "metadata": {},
   "outputs": [],
   "source": [
    "def merge_sort(a):\n",
    "    # Implement the code for merge sort\n",
    "    # Use a function merge_sort_recursive to implement the recursive call\n",
    "    # Be careful in counting number of comparisons since you should include comparisons in the merge part.\n",
    "    # Also: code needs to sort the array a. You may have to copy things over from a temp array back into a.\n",
    "    \n",
    "    \n",
    "    pointer = [1] #using a list size 1 as a pointer becuase... python\n",
    "    pointer[0] = 0\n",
    "    \n",
    "    c = a.copy() #easy way to copy length of a, don't care about contents\n",
    "    \n",
    "    c = merge_sort_recursive(a, pointer)\n",
    "    \n",
    "    #copying my temp list to a\n",
    "    for x in range(0,len(a)):\n",
    "        a[x] = c[x]\n",
    "\n",
    "    return pointer[0]\n",
    "    #return merge_sort_recursive(a, 0, len(a)-1)\n",
    "\n",
    "#yea i dont know about merge sort recursive business, but heres my merge sort algorithm\n",
    "def merge_sort_recursive(ar, pointer):\n",
    "    \n",
    "    #initialize some stuff\n",
    "    n = len(ar)-1\n",
    "    \n",
    "    #base case:\n",
    "    pointer[0] = pointer[0] + 1\n",
    "    if len(ar) == 1:\n",
    "        return ar\n",
    "    else:\n",
    "        #recursive call to divide more\n",
    "        left_list = merge_sort_recursive(ar[:(n//2)+1], pointer)\n",
    "        right_list = merge_sort_recursive(ar[(n//2)+1:], pointer)\n",
    "        \n",
    "        #merge part\n",
    "        c = []\n",
    "        i,j = 0,0\n",
    "        while(i <= len(left_list)-1 and j <= len(right_list)-1):\n",
    "            pointer[0] = pointer[0] + 1\n",
    "            if (left_list[i] <= right_list[j]):\n",
    "                c.append(left_list[i])\n",
    "                i = i + 1\n",
    "            else:\n",
    "                c.append(right_list[j])\n",
    "                j = j + 1\n",
    "                \n",
    "        while(i <= len(left_list)-1):\n",
    "            #pointer[0] = pointer[0] + 1\n",
    "            c.append(left_list[i])\n",
    "            i = i+ 1\n",
    "            \n",
    "        while(j <= len(right_list)-1):\n",
    "            #pointer[0] = pointer[0] + 1\n",
    "            c.append(right_list[j])\n",
    "            j = j + 1\n",
    "        return c\n",
    "    \n",
    "    \n",
    "        "
   ]
  },
  {
   "cell_type": "markdown",
   "metadata": {},
   "source": [
    "### Complexity Analysis of Merge Sort\n",
    "\n",
    "__Todo: explain what the worst and average cases are. Explain how you would craft inputs for the worst case __\n",
    "\n",
    "Worst case for merge sort, woudl be a comparison at every step. It could be achieved by splitting the list in two, taking every other number and putting it on the left side and the remaining ones on the right. Doing this recursively till a base case of 2 should yield a shuffled array that requires a comparison at every part of merge sort.\n",
    "Example: {0,1,2,3,4,5,6,7,8,9} sorted, worst previous case would be: {0,2,4,6,8} and {1,3,5,7,9}\n",
    "the worst previous case for {0,2,4,6,8} would be \n"
   ]
  },
  {
   "cell_type": "code",
   "execution_count": 20,
   "metadata": {},
   "outputs": [
    {
     "data": {
      "image/png": "[encoded data removed]",
      "text/plain": [
       "<Figure size 432x288 with 1 Axes>"
      ]
     },
     "metadata": {},
     "output_type": "display_data"
    }
   ],
   "source": [
    "## WRITE CODE HERE TO GENERATE WORST CASE and AVERAGE CASE INPUTS/PLOT\n",
    "## You may cut and paste from code we provided or directly call them\n",
    "# Code for running sorting and generating number of compares\n",
    "\n",
    "#this should theoretically create the worst case for merge sort, by splitting the array recursively to maximize the comparisons\n",
    "#while I have not been able to extensivly test this to be the proven worst case, it is worse than the average case at least\n",
    "def make_worst_case_merge(array):\n",
    "    if (len(array) <= 1):\n",
    "        return array\n",
    "    elif (len(array) == 2):\n",
    "        array[0],array[1] = array[1],array[0]\n",
    "        return array\n",
    "    left = make_worst_case_merge(array[0::2])\n",
    "    right = make_worst_case_merge(array[1::2])\n",
    "    return  left + right\n",
    "\n",
    "    \n",
    "num_compares_wc = []\n",
    "for n in array_sizes:\n",
    "    a = create_ascending_sorted_array(n)\n",
    "    b = make_worst_case_merge(a)\n",
    "    nc = merge_sort(b)\n",
    "    num_compares_wc.append(nc)\n",
    "    \n",
    "# Randomized comparisons\n",
    "num_compares_random = []\n",
    "num_trials = 1000\n",
    "for n in array_sizes:\n",
    "    total = 0\n",
    "    for m in range(num_trials):\n",
    "        a = create_random_shuffled_array(n)\n",
    "        nc = merge_sort(a)\n",
    "        total = total + nc\n",
    "    avg = total / num_trials\n",
    "    num_compares_random.append(avg)\n",
    "# Code for plotting\n",
    "\n",
    "plt.plot(array_sizes, num_compares_wc, label='Worst Case')\n",
    "plt.plot(array_sizes, num_compares_random, label='Average Case')\n",
    "plt.legend(['Worst Case', 'Average Case'])\n",
    "plt.title('Merge Sort (Worst and Average Cases)')\n",
    "plt.xlabel('Array Size')\n",
    "plt.ylabel('Number of Comparisons')\n",
    "\n",
    "plt.show()"
   ]
  },
  {
   "cell_type": "markdown",
   "metadata": {},
   "source": [
    "----\n",
    "### Quick Sort\n"
   ]
  },
  {
   "cell_type": "code",
   "execution_count": 16,
   "metadata": {},
   "outputs": [],
   "source": [
    "def quick_sort(a):\n",
    "    # Implement code for quick sort\n",
    "    # Must sort the array a in place\n",
    "    # Must return the number of comparisons\n",
    "    \n",
    "    #my python version of *pointer\n",
    "    pointer = []\n",
    "    pointer.append(0)\n",
    "    \n",
    "    low = 0\n",
    "    high = len(a)-1\n",
    "    quicksort(a, low, high, pointer)\n",
    "    return pointer[0]\n",
    "\n",
    "def quicksort(a, low, high, pointer):\n",
    "    if (low < high):\n",
    "        p = partition(a, low, high, pointer)\n",
    "        quicksort(a, low, p-1, pointer)\n",
    "        quicksort(a, p+1, high, pointer)\n",
    "    else:\n",
    "        return\n",
    "\n",
    "def partition(a, low, high, pointer):\n",
    "    #pivot\n",
    "    x = a[high]\n",
    "    i = low -1\n",
    "    j = low\n",
    "    while (j < high):\n",
    "        pointer[0] = pointer[0] + 1\n",
    "        if (a[j] < x):\n",
    "            i = i +1\n",
    "            #swap data i and j\n",
    "            a[i], a[j] = a[j], a[i]\n",
    "        j = j+1\n",
    "    pointer[0] = pointer[0] + 1     \n",
    "    if (a[high] < a[i+1]):\n",
    "        #swap(a, i+1, high)\n",
    "        a[i+1], a[high] = a[high],a[i+1]\n",
    "    return i+1\n"
   ]
  },
  {
   "cell_type": "markdown",
   "metadata": {},
   "source": [
    "### Complexity Analysis of Quick Sort\n",
    "\n",
    "__Todo: explain what the worst and average cases are. Explain how you would craft inputs for the worst case __\n",
    "\n",
    "Worst case for quicksort is an already sorted list, especially because I selected my pivot to be the last element in each partition, which is guaranteeing that I maximize the number of comparisons in each call of quicksort/partition\n"
   ]
  },
  {
   "cell_type": "code",
   "execution_count": 18,
   "metadata": {},
   "outputs": [
    {
     "data": {
      "image/png": "[encoded data removed]",
      "text/plain": [
       "<Figure size 432x288 with 1 Axes>"
      ]
     },
     "metadata": {},
     "output_type": "display_data"
    }
   ],
   "source": [
    "## WRITE CODE HERE TO GENERATE WORST CASE and AVERAGE CASE INPUTS/PLOT\n",
    "## You may cut and paste from code we provided or directly call them\n",
    "# Code for running sorting and generating number of compares\n",
    "num_compares_wc = []\n",
    "for n in array_sizes:\n",
    "    a = create_ascending_sorted_array(n)\n",
    "    nc = quick_sort(a)\n",
    "    num_compares_wc.append(nc)\n",
    "    \n",
    "# Randomized comparisons\n",
    "num_compares_random = []\n",
    "num_trials = 1000\n",
    "for n in array_sizes:\n",
    "    total = 0\n",
    "    for m in range(num_trials):\n",
    "        a = create_random_shuffled_array(n)\n",
    "        nc = quick_sort(a)\n",
    "        total = total + nc\n",
    "    avg = total / num_trials\n",
    "    num_compares_random.append(avg)\n",
    "# Code for plotting\n",
    "\n",
    "plt.plot(array_sizes, num_compares_wc, label='Worst Case')\n",
    "plt.plot(array_sizes, num_compares_random, label='Average Case')\n",
    "plt.legend(['Worst Case', 'Average Case'])\n",
    "plt.title('Quick Sort (Worst and Average Cases)')\n",
    "plt.xlabel('Array Size')\n",
    "plt.ylabel('Number of Comparisons')\n",
    "\n",
    "plt.show()"
   ]
  },
  {
   "cell_type": "markdown",
   "metadata": {},
   "source": [
    "-----\n",
    "## Testing Code: Do not edit\n",
    "\n"
   ]
  },
  {
   "cell_type": "code",
   "execution_count": 10,
   "metadata": {},
   "outputs": [],
   "source": [
    "def test_sorting_algorithm(sort_fun, sz, num_trials):\n",
    "    num_passed = 0\n",
    "    for i in range(num_trials):\n",
    "        a = create_random_shuffled_array(sz)\n",
    "        a_orig = list(a) # make a copy\n",
    "        b = sorted(a)\n",
    "        nc = sort_fun(a)\n",
    "        if a == b:\n",
    "            num_passed = num_passed + 1\n",
    "        else:\n",
    "            print('----')\n",
    "            print('FAILED: Input = ', a_orig)\n",
    "            print('Expected: ', b)\n",
    "            print('Obtained:', a)\n",
    "            print('----')\n",
    "    print('Num Trials = ', num_trials)\n",
    "    print('Num Passed = ', num_passed)"
   ]
  },
  {
   "cell_type": "code",
   "execution_count": 11,
   "metadata": {},
   "outputs": [
    {
     "name": "stdout",
     "output_type": "stream",
     "text": [
      "Num Trials =  100\n",
      "Num Passed =  100\n"
     ]
    }
   ],
   "source": [
    "test_sorting_algorithm(simple_sort, 50, 100)"
   ]
  },
  {
   "cell_type": "code",
   "execution_count": 12,
   "metadata": {},
   "outputs": [
    {
     "name": "stdout",
     "output_type": "stream",
     "text": [
      "Num Trials =  10\n",
      "Num Passed =  10\n"
     ]
    }
   ],
   "source": [
    "test_sorting_algorithm(bubble_sort, 10, 10)"
   ]
  },
  {
   "cell_type": "code",
   "execution_count": 21,
   "metadata": {},
   "outputs": [
    {
     "name": "stdout",
     "output_type": "stream",
     "text": [
      "Num Trials =  10\n",
      "Num Passed =  10\n"
     ]
    }
   ],
   "source": [
    "test_sorting_algorithm(merge_sort, 10, 10)"
   ]
  },
  {
   "cell_type": "code",
   "execution_count": 14,
   "metadata": {},
   "outputs": [
    {
     "name": "stdout",
     "output_type": "stream",
     "text": [
      "Num Trials =  10\n",
      "Num Passed =  10\n"
     ]
    }
   ],
   "source": [
    "test_sorting_algorithm(quick_sort, 10, 10)"
   ]
  },
  {
   "cell_type": "code",
   "execution_count": null,
   "metadata": {},
   "outputs": [],
   "source": []
  },
  {
   "cell_type": "code",
   "execution_count": null,
   "metadata": {},
   "outputs": [],
   "source": []
  }
 ],
 "metadata": {
  "kernelspec": {
   "display_name": "Python 3",
   "language": "python",
   "name": "python3"
  },
  "language_info": {
   "codemirror_mode": {
    "name": "ipython",
    "version": 3
   },
   "file_extension": ".py",
   "mimetype": "text/x-python",
   "name": "python",
   "nbconvert_exporter": "python",
   "pygments_lexer": "ipython3",
   "version": "3.6.5"
  }
 },
 "nbformat": 4,
 "nbformat_minor": 2
}
